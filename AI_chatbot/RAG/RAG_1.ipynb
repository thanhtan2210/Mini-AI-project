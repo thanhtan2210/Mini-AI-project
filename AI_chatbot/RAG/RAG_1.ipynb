{
 "cells": [
  {
   "cell_type": "markdown",
   "id": "ce660565",
   "metadata": {},
   "source": [
    "# Build a Retrieval Augmented Generation (RAG) App\n",
    "\n",
    "One of the most powerful applications enabled by LLMs is sophisticated question-answering (Q&A) chatbots. These are applications that can answer questions about specific source information. These applications use a technique known as Retrieval Augmented Generation, or RAG.\n",
    "\n",
    "This is a multi-part tutorial:\n",
    "- Part 1 introduces RAG and walks through a minimal implementation.\n",
    "- Part 2 extends the implementation to accommodate conversation-style interactions and multi-step retrieval processes.\n",
    "\n",
    "This tutorial will show how to build a simple Q&A application over a text data source. Along the way we’ll go over a typical Q&A architecture and highlight additional resources for more advanced Q&A techniques. We’ll also see how LangSmith can help us trace and understand our application. LangSmith will become increasingly helpful as our application grows in complexity.\n",
    "\n",
    "A typical RAG application has two main components:\n",
    "\n",
    "**Indexing**: a pipeline for ingesting data from a source and indexing it. This usually happens offline.\n",
    "\n",
    "**Retrieval and generation**: the actual RAG chain, which takes the user query at run time and retrieves the relevant data from the index, then passes that to the model."
   ]
  },
  {
   "cell_type": "markdown",
   "id": "03c24ab3",
   "metadata": {},
   "source": [
    "# Indexing\n",
    "1. Load: First we need to load our data. This is done with Document Loaders.\n",
    "2. Split: Text splitters break large Documents into smaller chunks. This is useful both for indexing data and passing it into a model, as large chunks are harder to search over and won't fit in a model's finite context window.\n",
    "3. Store: We need somewhere to store and index our splits, so that they can be searched over later. This is often done using a VectorStore and Embeddings model.\n",
    "![Indexing](https://python.langchain.com/assets/images/rag_indexing-8160f90a90a33253d0154659cf7d453f.png)\n",
    "# Retrieval and generation\n",
    "4. Retrieve: Given a user input, relevant splits are retrieved from storage using a Retriever.\n",
    "5. Generate: A ChatModel / LLM produces an answer using a prompt that includes both the question with the retrieved data\n",
    "![Retrieval and generation](https://python.langchain.com/assets/images/rag_retrieval_generation-1046a4668d6bb08786ef73c56d4f228a.png)"
   ]
  },
  {
   "cell_type": "code",
   "execution_count": 1,
   "id": "cc65ee19",
   "metadata": {},
   "outputs": [
    {
     "name": "stdout",
     "output_type": "stream",
     "text": [
      "Requirement already satisfied: langchain in d:\\bon bon\\sourcecode\\git\\mini-ai-project\\.venv\\lib\\site-packages (0.3.27)\n",
      "Requirement already satisfied: langchain-core<1.0.0,>=0.3.72 in d:\\bon bon\\sourcecode\\git\\mini-ai-project\\.venv\\lib\\site-packages (from langchain) (0.3.78)\n",
      "Requirement already satisfied: langchain-text-splitters<1.0.0,>=0.3.9 in d:\\bon bon\\sourcecode\\git\\mini-ai-project\\.venv\\lib\\site-packages (from langchain) (0.3.11)\n",
      "Requirement already satisfied: langsmith>=0.1.17 in d:\\bon bon\\sourcecode\\git\\mini-ai-project\\.venv\\lib\\site-packages (from langchain) (0.4.32)\n",
      "Requirement already satisfied: pydantic<3.0.0,>=2.7.4 in d:\\bon bon\\sourcecode\\git\\mini-ai-project\\.venv\\lib\\site-packages (from langchain) (2.11.10)\n",
      "Requirement already satisfied: SQLAlchemy<3,>=1.4 in d:\\bon bon\\sourcecode\\git\\mini-ai-project\\.venv\\lib\\site-packages (from langchain) (2.0.43)\n",
      "Requirement already satisfied: requests<3,>=2 in d:\\bon bon\\sourcecode\\git\\mini-ai-project\\.venv\\lib\\site-packages (from langchain) (2.32.5)\n",
      "Requirement already satisfied: PyYAML>=5.3 in d:\\bon bon\\sourcecode\\git\\mini-ai-project\\.venv\\lib\\site-packages (from langchain) (6.0.3)\n",
      "Requirement already satisfied: tenacity!=8.4.0,<10.0.0,>=8.1.0 in d:\\bon bon\\sourcecode\\git\\mini-ai-project\\.venv\\lib\\site-packages (from langchain-core<1.0.0,>=0.3.72->langchain) (9.1.2)\n",
      "Requirement already satisfied: jsonpatch<2.0.0,>=1.33.0 in d:\\bon bon\\sourcecode\\git\\mini-ai-project\\.venv\\lib\\site-packages (from langchain-core<1.0.0,>=0.3.72->langchain) (1.33)\n",
      "Requirement already satisfied: typing-extensions<5.0.0,>=4.7.0 in d:\\bon bon\\sourcecode\\git\\mini-ai-project\\.venv\\lib\\site-packages (from langchain-core<1.0.0,>=0.3.72->langchain) (4.15.0)\n",
      "Requirement already satisfied: packaging<26.0.0,>=23.2.0 in d:\\bon bon\\sourcecode\\git\\mini-ai-project\\.venv\\lib\\site-packages (from langchain-core<1.0.0,>=0.3.72->langchain) (25.0)\n",
      "Requirement already satisfied: jsonpointer>=1.9 in d:\\bon bon\\sourcecode\\git\\mini-ai-project\\.venv\\lib\\site-packages (from jsonpatch<2.0.0,>=1.33.0->langchain-core<1.0.0,>=0.3.72->langchain) (3.0.0)\n",
      "Requirement already satisfied: httpx<1,>=0.23.0 in d:\\bon bon\\sourcecode\\git\\mini-ai-project\\.venv\\lib\\site-packages (from langsmith>=0.1.17->langchain) (0.28.1)\n",
      "Requirement already satisfied: orjson>=3.9.14 in d:\\bon bon\\sourcecode\\git\\mini-ai-project\\.venv\\lib\\site-packages (from langsmith>=0.1.17->langchain) (3.11.3)\n",
      "Requirement already satisfied: requests-toolbelt>=1.0.0 in d:\\bon bon\\sourcecode\\git\\mini-ai-project\\.venv\\lib\\site-packages (from langsmith>=0.1.17->langchain) (1.0.0)\n",
      "Requirement already satisfied: zstandard>=0.23.0 in d:\\bon bon\\sourcecode\\git\\mini-ai-project\\.venv\\lib\\site-packages (from langsmith>=0.1.17->langchain) (0.25.0)\n",
      "Requirement already satisfied: anyio in d:\\bon bon\\sourcecode\\git\\mini-ai-project\\.venv\\lib\\site-packages (from httpx<1,>=0.23.0->langsmith>=0.1.17->langchain) (4.11.0)\n",
      "Requirement already satisfied: certifi in d:\\bon bon\\sourcecode\\git\\mini-ai-project\\.venv\\lib\\site-packages (from httpx<1,>=0.23.0->langsmith>=0.1.17->langchain) (2025.10.5)\n",
      "Requirement already satisfied: httpcore==1.* in d:\\bon bon\\sourcecode\\git\\mini-ai-project\\.venv\\lib\\site-packages (from httpx<1,>=0.23.0->langsmith>=0.1.17->langchain) (1.0.9)\n",
      "Requirement already satisfied: idna in d:\\bon bon\\sourcecode\\git\\mini-ai-project\\.venv\\lib\\site-packages (from httpx<1,>=0.23.0->langsmith>=0.1.17->langchain) (3.10)\n",
      "Requirement already satisfied: h11>=0.16 in d:\\bon bon\\sourcecode\\git\\mini-ai-project\\.venv\\lib\\site-packages (from httpcore==1.*->httpx<1,>=0.23.0->langsmith>=0.1.17->langchain) (0.16.0)\n",
      "Requirement already satisfied: annotated-types>=0.6.0 in d:\\bon bon\\sourcecode\\git\\mini-ai-project\\.venv\\lib\\site-packages (from pydantic<3.0.0,>=2.7.4->langchain) (0.7.0)\n",
      "Requirement already satisfied: pydantic-core==2.33.2 in d:\\bon bon\\sourcecode\\git\\mini-ai-project\\.venv\\lib\\site-packages (from pydantic<3.0.0,>=2.7.4->langchain) (2.33.2)\n",
      "Requirement already satisfied: typing-inspection>=0.4.0 in d:\\bon bon\\sourcecode\\git\\mini-ai-project\\.venv\\lib\\site-packages (from pydantic<3.0.0,>=2.7.4->langchain) (0.4.2)\n",
      "Requirement already satisfied: charset_normalizer<4,>=2 in d:\\bon bon\\sourcecode\\git\\mini-ai-project\\.venv\\lib\\site-packages (from requests<3,>=2->langchain) (3.4.3)\n",
      "Requirement already satisfied: urllib3<3,>=1.21.1 in d:\\bon bon\\sourcecode\\git\\mini-ai-project\\.venv\\lib\\site-packages (from requests<3,>=2->langchain) (2.5.0)\n",
      "Requirement already satisfied: greenlet>=1 in d:\\bon bon\\sourcecode\\git\\mini-ai-project\\.venv\\lib\\site-packages (from SQLAlchemy<3,>=1.4->langchain) (3.2.4)\n",
      "Requirement already satisfied: sniffio>=1.1 in d:\\bon bon\\sourcecode\\git\\mini-ai-project\\.venv\\lib\\site-packages (from anyio->httpx<1,>=0.23.0->langsmith>=0.1.17->langchain) (1.3.1)\n",
      "Note: you may need to restart the kernel to use updated packages.\n"
     ]
    }
   ],
   "source": [
    "pip install langchain"
   ]
  },
  {
   "cell_type": "code",
   "execution_count": 2,
   "id": "0cb29543",
   "metadata": {},
   "outputs": [
    {
     "name": "stdout",
     "output_type": "stream",
     "text": [
      "Note: you may need to restart the kernel to use updated packages.\n"
     ]
    }
   ],
   "source": [
    "pip install --quiet --upgrade langchain-text-splitters langchain-community langgraph"
   ]
  },
  {
   "cell_type": "markdown",
   "id": "a631f3a0",
   "metadata": {},
   "source": [
    "# LangSmith\n",
    "Many of the applications you build with LangChain will contain multiple steps with multiple invocations of LLM calls. As these applications get more complex, it becomes crucial to be able to inspect what exactly is going on inside your chain or agent. The best way to do this is with [LangSmith](https://smith.langchain.com/?_gl=1*1av1p9p*_ga*MTY4NjgwMTQ5NS4xNzU5NjAyMjc4*_ga_47WX3HKKY2*czE3NTk2Mzc4MDckbzMkZzEkdDE3NTk2Mzg4MjEkajYwJGwwJGgw)\n",
    "\n",
    "After you sign up at the link above, make sure to set your environment variables to start logging traces:"
   ]
  },
  {
   "cell_type": "code",
   "execution_count": 3,
   "id": "f994274d",
   "metadata": {},
   "outputs": [],
   "source": [
    "# export LANGSMITH_TRACING=\"true\"\n",
    "# export LANGSMITH_API_KEY=\"...\"\n",
    "\n",
    "import getpass\n",
    "from dotenv import load_dotenv\n",
    "import os\n",
    "\n",
    "load_dotenv()\n",
    "\n",
    "os.environ[\"LANGSMITH_TRACING\"] = \"true\"\n",
    "os.environ[\"LANGSMITH_API_KEY\"] = os.getenv(\"LANG_SMITH_API_KEY\")"
   ]
  },
  {
   "cell_type": "markdown",
   "id": "1ccfe964",
   "metadata": {},
   "source": [
    "# Components\n",
    "\n",
    "We will need to select three components from LangChain's suite of integrations."
   ]
  },
  {
   "cell_type": "code",
   "execution_count": 4,
   "id": "769ad8dd",
   "metadata": {},
   "outputs": [
    {
     "name": "stdout",
     "output_type": "stream",
     "text": [
      "Note: you may need to restart the kernel to use updated packages.\n"
     ]
    }
   ],
   "source": [
    "pip install -qU \"langchain[google-genai]\""
   ]
  },
  {
   "cell_type": "code",
   "execution_count": 5,
   "id": "fe24fe9a",
   "metadata": {},
   "outputs": [
    {
     "name": "stdout",
     "output_type": "stream",
     "text": [
      "Note: you may need to restart the kernel to use updated packages.\n"
     ]
    }
   ],
   "source": [
    "pip install -qU langchain-openai"
   ]
  },
  {
   "cell_type": "code",
   "execution_count": 6,
   "id": "1690b20d",
   "metadata": {},
   "outputs": [
    {
     "name": "stdout",
     "output_type": "stream",
     "text": [
      "Note: you may need to restart the kernel to use updated packages.\n"
     ]
    }
   ],
   "source": [
    "pip install -qU langchain-astradb"
   ]
  },
  {
   "cell_type": "code",
   "execution_count": 7,
   "id": "5b41ca0d",
   "metadata": {},
   "outputs": [],
   "source": [
    "#model: Google Gemini\n",
    "# Selecct chat model from LangChain's suite of integrations.\n",
    "if not os.environ.get(\"GOOGLE_API_KEY\"):\n",
    "  os.environ[\"GOOGLE_API_KEY\"] = os.getenv(\"GOOGLE_API_KEY\")\n",
    "\n",
    "from langchain.chat_models import init_chat_model\n",
    "\n",
    "llm = init_chat_model(\"gemini-2.5-flash\", model_provider=\"google_genai\")\n"
   ]
  },
  {
   "cell_type": "code",
   "execution_count": 8,
   "id": "99f8ef37",
   "metadata": {},
   "outputs": [],
   "source": [
    "#Select embedding model from LangChain's suite of integrations.\n",
    "# Google gemini Embeddings\n",
    "\n",
    "from langchain_google_genai import GoogleGenerativeAIEmbeddings\n",
    "\n",
    "embeddings = GoogleGenerativeAIEmbeddings(model=\"models/gemini-embedding-001\")\n",
    "\n",
    "\n",
    "# OpenAI Embeddings\n",
    "# if not os.environ.get(\"OPENAI_API_KEY\"):\n",
    "#   os.environ[\"OPENAI_API_KEY\"] = os.getenv(\"OPENAI_API_KEY\")\n",
    "\n",
    "# from langchain_openai import OpenAIEmbeddings\n",
    "\n",
    "# embeddings = OpenAIEmbeddings(model=\"text-embedding-3-large\")"
   ]
  },
  {
   "cell_type": "code",
   "execution_count": 9,
   "id": "4a1dbf7e",
   "metadata": {},
   "outputs": [
    {
     "name": "stdout",
     "output_type": "stream",
     "text": [
      "Requirement already satisfied: langchain<0.4,>=0.3.23 in d:\\bon bon\\sourcecode\\git\\mini-ai-project\\.venv\\lib\\site-packages (0.3.27)\n",
      "Requirement already satisfied: langchain-core<0.4,>=0.3.52 in d:\\bon bon\\sourcecode\\git\\mini-ai-project\\.venv\\lib\\site-packages (0.3.78)\n",
      "Requirement already satisfied: langchain-astradb<0.7,>=0.6 in d:\\bon bon\\sourcecode\\git\\mini-ai-project\\.venv\\lib\\site-packages (0.6.1)\n",
      "Requirement already satisfied: langchain-text-splitters<1.0.0,>=0.3.9 in d:\\bon bon\\sourcecode\\git\\mini-ai-project\\.venv\\lib\\site-packages (from langchain<0.4,>=0.3.23) (0.3.11)\n",
      "Requirement already satisfied: langsmith>=0.1.17 in d:\\bon bon\\sourcecode\\git\\mini-ai-project\\.venv\\lib\\site-packages (from langchain<0.4,>=0.3.23) (0.4.32)\n",
      "Requirement already satisfied: pydantic<3.0.0,>=2.7.4 in d:\\bon bon\\sourcecode\\git\\mini-ai-project\\.venv\\lib\\site-packages (from langchain<0.4,>=0.3.23) (2.11.10)\n",
      "Requirement already satisfied: SQLAlchemy<3,>=1.4 in d:\\bon bon\\sourcecode\\git\\mini-ai-project\\.venv\\lib\\site-packages (from langchain<0.4,>=0.3.23) (2.0.43)\n",
      "Requirement already satisfied: requests<3,>=2 in d:\\bon bon\\sourcecode\\git\\mini-ai-project\\.venv\\lib\\site-packages (from langchain<0.4,>=0.3.23) (2.32.5)\n",
      "Requirement already satisfied: PyYAML>=5.3 in d:\\bon bon\\sourcecode\\git\\mini-ai-project\\.venv\\lib\\site-packages (from langchain<0.4,>=0.3.23) (6.0.3)\n",
      "Requirement already satisfied: tenacity!=8.4.0,<10.0.0,>=8.1.0 in d:\\bon bon\\sourcecode\\git\\mini-ai-project\\.venv\\lib\\site-packages (from langchain-core<0.4,>=0.3.52) (9.1.2)\n",
      "Requirement already satisfied: jsonpatch<2.0.0,>=1.33.0 in d:\\bon bon\\sourcecode\\git\\mini-ai-project\\.venv\\lib\\site-packages (from langchain-core<0.4,>=0.3.52) (1.33)\n",
      "Requirement already satisfied: typing-extensions<5.0.0,>=4.7.0 in d:\\bon bon\\sourcecode\\git\\mini-ai-project\\.venv\\lib\\site-packages (from langchain-core<0.4,>=0.3.52) (4.15.0)\n",
      "Requirement already satisfied: packaging<26.0.0,>=23.2.0 in d:\\bon bon\\sourcecode\\git\\mini-ai-project\\.venv\\lib\\site-packages (from langchain-core<0.4,>=0.3.52) (25.0)\n",
      "Requirement already satisfied: astrapy<3.0.0,>=2.0.1 in d:\\bon bon\\sourcecode\\git\\mini-ai-project\\.venv\\lib\\site-packages (from langchain-astradb<0.7,>=0.6) (2.1.0)\n",
      "Requirement already satisfied: numpy>=2.1.0 in d:\\bon bon\\sourcecode\\git\\mini-ai-project\\.venv\\lib\\site-packages (from langchain-astradb<0.7,>=0.6) (2.3.3)\n",
      "Requirement already satisfied: deprecation~=2.1.0 in d:\\bon bon\\sourcecode\\git\\mini-ai-project\\.venv\\lib\\site-packages (from astrapy<3.0.0,>=2.0.1->langchain-astradb<0.7,>=0.6) (2.1.0)\n",
      "Requirement already satisfied: h11>=0.16.0 in d:\\bon bon\\sourcecode\\git\\mini-ai-project\\.venv\\lib\\site-packages (from astrapy<3.0.0,>=2.0.1->langchain-astradb<0.7,>=0.6) (0.16.0)\n",
      "Requirement already satisfied: httpx<1,>=0.25.2 in d:\\bon bon\\sourcecode\\git\\mini-ai-project\\.venv\\lib\\site-packages (from httpx[http2]<1,>=0.25.2->astrapy<3.0.0,>=2.0.1->langchain-astradb<0.7,>=0.6) (0.28.1)\n",
      "Requirement already satisfied: pymongo>=3 in d:\\bon bon\\sourcecode\\git\\mini-ai-project\\.venv\\lib\\site-packages (from astrapy<3.0.0,>=2.0.1->langchain-astradb<0.7,>=0.6) (4.15.2)\n",
      "Requirement already satisfied: toml<1.0.0,>=0.10.2 in d:\\bon bon\\sourcecode\\git\\mini-ai-project\\.venv\\lib\\site-packages (from astrapy<3.0.0,>=2.0.1->langchain-astradb<0.7,>=0.6) (0.10.2)\n",
      "Requirement already satisfied: uuid6>=2024.1.12 in d:\\bon bon\\sourcecode\\git\\mini-ai-project\\.venv\\lib\\site-packages (from astrapy<3.0.0,>=2.0.1->langchain-astradb<0.7,>=0.6) (2025.0.1)\n",
      "Requirement already satisfied: anyio in d:\\bon bon\\sourcecode\\git\\mini-ai-project\\.venv\\lib\\site-packages (from httpx<1,>=0.25.2->httpx[http2]<1,>=0.25.2->astrapy<3.0.0,>=2.0.1->langchain-astradb<0.7,>=0.6) (4.11.0)\n",
      "Requirement already satisfied: certifi in d:\\bon bon\\sourcecode\\git\\mini-ai-project\\.venv\\lib\\site-packages (from httpx<1,>=0.25.2->httpx[http2]<1,>=0.25.2->astrapy<3.0.0,>=2.0.1->langchain-astradb<0.7,>=0.6) (2025.10.5)\n",
      "Requirement already satisfied: httpcore==1.* in d:\\bon bon\\sourcecode\\git\\mini-ai-project\\.venv\\lib\\site-packages (from httpx<1,>=0.25.2->httpx[http2]<1,>=0.25.2->astrapy<3.0.0,>=2.0.1->langchain-astradb<0.7,>=0.6) (1.0.9)\n",
      "Requirement already satisfied: idna in d:\\bon bon\\sourcecode\\git\\mini-ai-project\\.venv\\lib\\site-packages (from httpx<1,>=0.25.2->httpx[http2]<1,>=0.25.2->astrapy<3.0.0,>=2.0.1->langchain-astradb<0.7,>=0.6) (3.10)\n",
      "Requirement already satisfied: h2<5,>=3 in d:\\bon bon\\sourcecode\\git\\mini-ai-project\\.venv\\lib\\site-packages (from httpx[http2]<1,>=0.25.2->astrapy<3.0.0,>=2.0.1->langchain-astradb<0.7,>=0.6) (4.3.0)\n",
      "Requirement already satisfied: hyperframe<7,>=6.1 in d:\\bon bon\\sourcecode\\git\\mini-ai-project\\.venv\\lib\\site-packages (from h2<5,>=3->httpx[http2]<1,>=0.25.2->astrapy<3.0.0,>=2.0.1->langchain-astradb<0.7,>=0.6) (6.1.0)\n",
      "Requirement already satisfied: hpack<5,>=4.1 in d:\\bon bon\\sourcecode\\git\\mini-ai-project\\.venv\\lib\\site-packages (from h2<5,>=3->httpx[http2]<1,>=0.25.2->astrapy<3.0.0,>=2.0.1->langchain-astradb<0.7,>=0.6) (4.1.0)\n",
      "Requirement already satisfied: jsonpointer>=1.9 in d:\\bon bon\\sourcecode\\git\\mini-ai-project\\.venv\\lib\\site-packages (from jsonpatch<2.0.0,>=1.33.0->langchain-core<0.4,>=0.3.52) (3.0.0)\n",
      "Requirement already satisfied: orjson>=3.9.14 in d:\\bon bon\\sourcecode\\git\\mini-ai-project\\.venv\\lib\\site-packages (from langsmith>=0.1.17->langchain<0.4,>=0.3.23) (3.11.3)\n",
      "Requirement already satisfied: requests-toolbelt>=1.0.0 in d:\\bon bon\\sourcecode\\git\\mini-ai-project\\.venv\\lib\\site-packages (from langsmith>=0.1.17->langchain<0.4,>=0.3.23) (1.0.0)\n",
      "Requirement already satisfied: zstandard>=0.23.0 in d:\\bon bon\\sourcecode\\git\\mini-ai-project\\.venv\\lib\\site-packages (from langsmith>=0.1.17->langchain<0.4,>=0.3.23) (0.25.0)\n",
      "Requirement already satisfied: annotated-types>=0.6.0 in d:\\bon bon\\sourcecode\\git\\mini-ai-project\\.venv\\lib\\site-packages (from pydantic<3.0.0,>=2.7.4->langchain<0.4,>=0.3.23) (0.7.0)\n",
      "Requirement already satisfied: pydantic-core==2.33.2 in d:\\bon bon\\sourcecode\\git\\mini-ai-project\\.venv\\lib\\site-packages (from pydantic<3.0.0,>=2.7.4->langchain<0.4,>=0.3.23) (2.33.2)\n",
      "Requirement already satisfied: typing-inspection>=0.4.0 in d:\\bon bon\\sourcecode\\git\\mini-ai-project\\.venv\\lib\\site-packages (from pydantic<3.0.0,>=2.7.4->langchain<0.4,>=0.3.23) (0.4.2)\n",
      "Requirement already satisfied: charset_normalizer<4,>=2 in d:\\bon bon\\sourcecode\\git\\mini-ai-project\\.venv\\lib\\site-packages (from requests<3,>=2->langchain<0.4,>=0.3.23) (3.4.3)\n",
      "Requirement already satisfied: urllib3<3,>=1.21.1 in d:\\bon bon\\sourcecode\\git\\mini-ai-project\\.venv\\lib\\site-packages (from requests<3,>=2->langchain<0.4,>=0.3.23) (2.5.0)\n",
      "Requirement already satisfied: greenlet>=1 in d:\\bon bon\\sourcecode\\git\\mini-ai-project\\.venv\\lib\\site-packages (from SQLAlchemy<3,>=1.4->langchain<0.4,>=0.3.23) (3.2.4)\n",
      "Requirement already satisfied: dnspython<3.0.0,>=1.16.0 in d:\\bon bon\\sourcecode\\git\\mini-ai-project\\.venv\\lib\\site-packages (from pymongo>=3->astrapy<3.0.0,>=2.0.1->langchain-astradb<0.7,>=0.6) (2.8.0)\n",
      "Requirement already satisfied: sniffio>=1.1 in d:\\bon bon\\sourcecode\\git\\mini-ai-project\\.venv\\lib\\site-packages (from anyio->httpx<1,>=0.25.2->httpx[http2]<1,>=0.25.2->astrapy<3.0.0,>=2.0.1->langchain-astradb<0.7,>=0.6) (1.3.1)\n"
     ]
    }
   ],
   "source": [
    "!pip install \\\n",
    "    \"langchain>=0.3.23,<0.4\" \\\n",
    "    \"langchain-core>=0.3.52,<0.4\" \\\n",
    "    \"langchain-astradb>=0.6,<0.7\""
   ]
  },
  {
   "cell_type": "code",
   "execution_count": 10,
   "id": "b1dacf26",
   "metadata": {},
   "outputs": [],
   "source": [
    "#Select vector store\n",
    "#astraDB\n",
    "import os\n",
    "from dotenv import load_dotenv\n",
    "import os\n",
    "\n",
    "load_dotenv()\n",
    "\n",
    "ASTRA_DB_API_ENDPOINT = os.getenv(\"ASTRA_DB_API_ENDPOINT\")\n",
    "ASTRA_DB_APPLICATION_TOKEN = os.getenv(\"ASTRA_DB_APPLICATION_TOKEN\")\n",
    "ASTRA_DB_KEYSPACE = os.getenv(\"ASTRA_DB_KEYSPACE\")\n",
    "\n",
    "# desired_keyspace = input(\"(optional) ASTRA_DB_KEYSPACE = \").strip()\n",
    "# if desired_keyspace:\n",
    "#     ASTRA_DB_KEYSPACE = desired_keyspace\n",
    "# else:\n",
    "#     ASTRA_DB_KEYSPACE = None\n",
    "\n",
    "\n",
    "from langchain_astradb import AstraDBVectorStore\n",
    "\n",
    "vector_store = AstraDBVectorStore(\n",
    "    embedding=embeddings,\n",
    "    api_endpoint=ASTRA_DB_API_ENDPOINT,\n",
    "    collection_name=\"astra_vector_langchain\",\n",
    "    token=ASTRA_DB_APPLICATION_TOKEN,\n",
    "    namespace=ASTRA_DB_KEYSPACE,\n",
    ")"
   ]
  },
  {
   "cell_type": "markdown",
   "id": "284ef003",
   "metadata": {},
   "source": [
    "# Overview\n",
    "In this guide we’ll build an app that answers questions about the website's content. The specific website we will use is the [LLM Powered Autonomous Agents blog post by Lilian Weng](https://lilianweng.github.io/posts/2023-06-23-agent/), which allows us to ask questions about the contents of the post.\n",
    "\n",
    "We can create a simple indexing pipeline and RAG chain to do this in ~50 lines of code."
   ]
  },
  {
   "cell_type": "code",
   "execution_count": 11,
   "id": "ab9ec91d",
   "metadata": {},
   "outputs": [
    {
     "name": "stderr",
     "output_type": "stream",
     "text": [
      "USER_AGENT environment variable not set, consider setting it to identify your requests.\n"
     ]
    }
   ],
   "source": [
    "import bs4\n",
    "from langchain import hub\n",
    "from langchain_community.document_loaders import WebBaseLoader\n",
    "from langchain_core.documents import Document\n",
    "from langchain_text_splitters import RecursiveCharacterTextSplitter\n",
    "from langgraph.graph import START, StateGraph\n",
    "from typing_extensions import List, TypedDict\n",
    "\n",
    "# Load and chunk contents of the blog\n",
    "loader = WebBaseLoader(\n",
    "    web_paths=(\"https://lilianweng.github.io/posts/2023-06-23-agent/\",),\n",
    "    bs_kwargs=dict(\n",
    "        parse_only=bs4.SoupStrainer(\n",
    "            class_=(\"post-content\", \"post-title\", \"post-header\")\n",
    "        )\n",
    "    ),\n",
    ")\n",
    "docs = loader.load()\n",
    "\n",
    "text_splitter = RecursiveCharacterTextSplitter(chunk_size=1000, chunk_overlap=200)\n",
    "all_splits = text_splitter.split_documents(docs)\n",
    "\n",
    "# Index chunks\n",
    "_ = vector_store.add_documents(documents=all_splits)\n",
    "\n",
    "# Define prompt for question-answering\n",
    "# N.B. for non-US LangSmith endpoints, you may need to specify\n",
    "# api_url=\"https://api.smith.langchain.com\" in hub.pull.\n",
    "prompt = hub.pull(\"rlm/rag-prompt\")\n",
    "\n",
    "\n",
    "# Define state for application\n",
    "class State(TypedDict):\n",
    "    question: str\n",
    "    context: List[Document]\n",
    "    answer: str\n",
    "\n",
    "\n",
    "# Define application steps\n",
    "def retrieve(state: State):\n",
    "    retrieved_docs = vector_store.similarity_search(state[\"question\"])\n",
    "    return {\"context\": retrieved_docs}\n",
    "\n",
    "\n",
    "def generate(state: State):\n",
    "    docs_content = \"\\n\\n\".join(doc.page_content for doc in state[\"context\"])\n",
    "    messages = prompt.invoke({\"question\": state[\"question\"], \"context\": docs_content})\n",
    "    response = llm.invoke(messages)\n",
    "    return {\"answer\": response.content}\n",
    "\n",
    "\n",
    "# Compile application and test\n",
    "graph_builder = StateGraph(State).add_sequence([retrieve, generate])\n",
    "graph_builder.add_edge(START, \"retrieve\")\n",
    "graph = graph_builder.compile()"
   ]
  },
  {
   "cell_type": "code",
   "execution_count": 12,
   "id": "6c423f73",
   "metadata": {},
   "outputs": [
    {
     "name": "stdout",
     "output_type": "stream",
     "text": [
      "Task Decomposition is the process of breaking down large, complex tasks into smaller, more manageable subgoals or steps. This technique, often used by LLMs through methods like Chain of Thought, enhances performance by simplifying complex problems. It can be achieved via LLM prompting, task-specific instructions, or human input.\n"
     ]
    }
   ],
   "source": [
    "# Then run the question-answering application\n",
    "response = graph.invoke({\"question\": \"What is Task Decomposition?\"})\n",
    "print(response[\"answer\"])"
   ]
  },
  {
   "cell_type": "markdown",
   "id": "27d9abf1",
   "metadata": {},
   "source": [
    "# Details walkthrough\n",
    "## Indexing\n",
    "### 1. Loading Document\n",
    "We need to first load the blog post contents. We can use [DocumentLoaders](https://python.langchain.com/docs/concepts/document_loaders/) for this, which are objects that load in data from a source and return a list of Document objects.\n",
    "\n",
    "In this case we’ll use the [WebBaseLoader](https://python.langchain.com/docs/integrations/document_loaders/web_base/), which uses urllib to load HTML from web URLs and BeautifulSoup to parse it to text. We can customize the HTML -> text parsing by passing in parameters into the BeautifulSoup parser via bs_kwargs (see [BeautifulSoup docs](https://beautiful-soup-4.readthedocs.io/en/latest/#beautifulsoup)). In this case only HTML tags with class “post-content”, “post-title”, or “post-header” are relevant, so we’ll remove all others."
   ]
  },
  {
   "cell_type": "code",
   "execution_count": 13,
   "id": "9eae8bea",
   "metadata": {},
   "outputs": [
    {
     "name": "stdout",
     "output_type": "stream",
     "text": [
      "Total characters: 43047\n"
     ]
    }
   ],
   "source": [
    "import bs4\n",
    "from langchain_community.document_loaders import WebBaseLoader\n",
    "\n",
    "# Only keep post title, headers, and content from the full HTML.\n",
    "bs4_strainer = bs4.SoupStrainer(class_=(\"post-title\", \"post-header\", \"post-content\"))\n",
    "loader = WebBaseLoader(\n",
    "    web_paths=(\"https://lilianweng.github.io/posts/2023-06-23-agent/\",),\n",
    "    bs_kwargs={\"parse_only\": bs4_strainer},\n",
    ")\n",
    "docs = loader.load()\n",
    "\n",
    "assert len(docs) == 1\n",
    "print(f\"Total characters: {len(docs[0].page_content)}\")"
   ]
  },
  {
   "cell_type": "code",
   "execution_count": 14,
   "id": "50b68c9e",
   "metadata": {},
   "outputs": [
    {
     "name": "stdout",
     "output_type": "stream",
     "text": [
      "\n",
      "\n",
      "      LLM Powered Autonomous Agents\n",
      "    \n",
      "Date: June 23, 2023  |  Estimated Reading Time: 31 min  |  Author: Lilian Weng\n",
      "\n",
      "\n",
      "Building agents with LLM (large language model) as its core controller is a cool concept. Several proof-of-concepts demos, such as AutoGPT, GPT-Engineer and BabyAGI, serve as inspiring examples. The potentiality of LLM extends beyond generating well-written copies, stories, essays and programs; it can be framed as a powerful general problem solver.\n",
      "Agent System Overview#\n",
      "In\n"
     ]
    }
   ],
   "source": [
    "print(docs[0].page_content[:500])"
   ]
  },
  {
   "cell_type": "markdown",
   "id": "b569cfba",
   "metadata": {},
   "source": [
    "### 2. Splitting Document\n",
    "Our loaded document is over 42k characters which is too long to fit into the context window of many models. Even for those models that could fit the full post in their context window, models can struggle to find information in very long inputs.\n",
    "\n",
    "To handle this we’ll split the Document into chunks for embedding and vector storage. This should help us retrieve only the most relevant parts of the blog post at run time.\n",
    "\n",
    "We use a [RecursiveCharacterTextSplitter](https://python.langchain.com/docs/how_to/recursive_text_splitter/), which will recursively split the document using common separators like new lines until each chunk is the appropriate size. This is the recommended text splitter for generic text use cases."
   ]
  },
  {
   "cell_type": "code",
   "execution_count": 15,
   "id": "1ef995de",
   "metadata": {},
   "outputs": [
    {
     "name": "stdout",
     "output_type": "stream",
     "text": [
      "Split blog post into 63 sub-documents.\n"
     ]
    }
   ],
   "source": [
    "from langchain_text_splitters import RecursiveCharacterTextSplitter\n",
    "\n",
    "text_splitter = RecursiveCharacterTextSplitter(\n",
    "    chunk_size=1000,  # chunk size (characters)\n",
    "    chunk_overlap=200,  # chunk overlap (characters)\n",
    "    add_start_index=True,  # track index in original document\n",
    ")\n",
    "all_splits = text_splitter.split_documents(docs)\n",
    "\n",
    "print(f\"Split blog post into {len(all_splits)} sub-documents.\")"
   ]
  },
  {
   "cell_type": "markdown",
   "id": "4ee15acc",
   "metadata": {},
   "source": [
    "### 3. Storing Document\n",
    "Now we need to index our 63 text chunks so that we can search over them at runtime. Following the [semantic search tutorial](https://python.langchain.com/docs/tutorials/retrievers/), our approach is to embed the contents of each document split and insert these embeddings into a vector store. Given an input query, we can then use vector search to retrieve relevant documents.\n",
    "\n",
    "We can embed and store all of our document splits in a single command using the vector store and embeddings model selected at the start of the tutorial."
   ]
  },
  {
   "cell_type": "code",
   "execution_count": 16,
   "id": "971e1bad",
   "metadata": {},
   "outputs": [
    {
     "name": "stdout",
     "output_type": "stream",
     "text": [
      "['bbbb3dce44bb461bafc40185b1d67f7e', '082646316761458095ddf2eb2687aae7', 'db72b5e9ad8f4cd0a418adbaad5909fd']\n"
     ]
    }
   ],
   "source": [
    "document_ids = vector_store.add_documents(documents=all_splits)\n",
    "\n",
    "print(document_ids[:3])"
   ]
  },
  {
   "cell_type": "markdown",
   "id": "dea20b7a",
   "metadata": {},
   "source": [
    "This completes the Indexing portion of the pipeline. At this point we have a query-able vector store containing the chunked contents of our blog post. Given a user question, we should ideally be able to return the snippets of the blog post that answer the question.\n",
    "\n",
    "# Retrieval and Generation\n",
    "\n",
    "Now let’s write the actual application logic. We want to create a simple application that takes a user question, searches for documents relevant to that question, passes the retrieved documents and initial question to a model, and returns an answer.\n",
    "\n",
    "For generation, we will use the chat model selected at the [start of the tutorial](https://python.langchain.com/docs/tutorials/rag/#components).\n",
    "\n",
    "We’ll use a prompt for RAG that is checked into the LangChain prompt hub ([here](https://smith.langchain.com/hub/rlm/rag-prompt?_gl=1*7mimhj*_ga*MTY4NjgwMTQ5NS4xNzU5NjAyMjc4*_ga_47WX3HKKY2*czE3NTk3NDYwOTgkbzYkZzEkdDE3NTk3NDYyMTQkajMxJGwwJGgw))."
   ]
  },
  {
   "cell_type": "code",
   "execution_count": 18,
   "id": "fb049e75",
   "metadata": {},
   "outputs": [
    {
     "name": "stdout",
     "output_type": "stream",
     "text": [
      "You are an assistant for question-answering tasks. Use the following pieces of retrieved context to answer the question. If you don't know the answer, just say that you don't know. Use three sentences maximum and keep the answer concise.\n",
      "Question: (question goes here) \n",
      "Context: (context goes here) \n",
      "Answer:\n"
     ]
    }
   ],
   "source": [
    "from langchain import hub\n",
    "\n",
    "# N.B. for non-US LangSmith endpoints, you may need to specify\n",
    "# api_url=\"https://api.smith.langchain.com\" in hub.pull.\n",
    "prompt = hub.pull(\"rlm/rag-prompt\")\n",
    "\n",
    "example_messages = prompt.invoke(\n",
    "    {\"context\": \"(context goes here)\", \"question\": \"(question goes here)\"}\n",
    ").to_messages()\n",
    "\n",
    "assert len(example_messages) == 1\n",
    "print(example_messages[0].content)"
   ]
  },
  {
   "cell_type": "markdown",
   "id": "3cc3669b",
   "metadata": {},
   "source": [
    "We'll use [LangGraph](https://langchain-ai.github.io/langgraph/?_gl=1*19uz26p*_ga*MTY4NjgwMTQ5NS4xNzU5NjAyMjc4*_ga_47WX3HKKY2*czE3NTk3NDYwOTgkbzYkZzEkdDE3NTk3NDYyMTQkajMxJGwwJGgw) to tie together the retrieval and generation step into a single application. This will bring a number of benefits:\n",
    "\n",
    "- We can define our application logic once and automatically support multiple invocation modes, including streaming, async, and batched calls.\n",
    "- We get streamlined deployments via [LangGraph Platform](https://langchain-ai.github.io/langgraph/concepts/langgraph_platform/?_gl=1*2vhqel*_ga*MTY4NjgwMTQ5NS4xNzU5NjAyMjc4*_ga_47WX3HKKY2*czE3NTk3NDYwOTgkbzYkZzEkdDE3NTk3NDYyMTQkajMxJGwwJGgw).\n",
    "- LangSmith will automatically trace the steps of our application together.\n",
    "- We can easily add key features to our application, including persistence and human-in-the-loop approval, with minimal code changes.\n",
    "\n",
    "To use LangGraph, we need to define three things:\n",
    "+ The state of application.\n",
    "+ The nodes of application (i.e.., application steps).\n",
    "+ The control flow of application (e.g.., the oderings of the steps).\n",
    "\n",
    "**State**:\n",
    "The state of application control what data input to the application, transferred between steps, and output by the application. It is typically a TypedDict, but can also be a [Pydantic BaseModel](https://langchain-ai.github.io/langgraph/how-tos/state-model/?_gl=1*2zuu9t*_ga*MTY4NjgwMTQ5NS4xNzU5NjAyMjc4*_ga_47WX3HKKY2*czE3NTk3NDYwOTgkbzYkZzEkdDE3NTk3NDYyMTQkajMxJGwwJGgw).\n",
    "\n",
    "For a simple RAG application, we can just keep track of the input question, retrieved context, and generated answer:"
   ]
  },
  {
   "cell_type": "code",
   "execution_count": 19,
   "id": "4e1799a3",
   "metadata": {},
   "outputs": [],
   "source": [
    "from langchain_core.documents import Document\n",
    "from typing_extensions import List, TypedDict\n",
    "\n",
    "class State(TypedDict):\n",
    "    question: str\n",
    "    context: List[Document]\n",
    "    answer: str "
   ]
  },
  {
   "cell_type": "markdown",
   "id": "27d84f7b",
   "metadata": {},
   "source": [
    "**Nodes (Application Steps)**\n",
    "Let't start with a simple sequence on two steps: retrieval and generation.\n"
   ]
  },
  {
   "cell_type": "code",
   "execution_count": 20,
   "id": "e46956ea",
   "metadata": {},
   "outputs": [],
   "source": [
    "def retrieve(state: State):\n",
    "    retrieved_docs = vector_store.similarity_search(state[\"question\"])\n",
    "    return {\"context\": retrieved_docs}\n",
    "\n",
    "\n",
    "def generate(state: State):\n",
    "    docs_content = \"\\n\\n\".join(doc.page_content for doc in state[\"context\"])\n",
    "    messages = prompt.invoke({\"question\": state[\"question\"], \"context\": docs_content})\n",
    "    response = llm.invoke(messages)\n",
    "    return {\"answer\": response.content}"
   ]
  },
  {
   "cell_type": "markdown",
   "id": "2eb39b6f",
   "metadata": {},
   "source": [
    "Our retrieval step simply runs a similarity search using the input question, and the generation step formats the retrieved context and original question into a prompt for the chat model.\n",
    "\n",
    "**Control Flow**\n",
    "\n",
    "Finally, we compile our application into a single graph object. In this case, we are just connecting the retrieval and generation steps into a single sequence."
   ]
  },
  {
   "cell_type": "code",
   "execution_count": 21,
   "id": "a66e04e2",
   "metadata": {},
   "outputs": [],
   "source": [
    "from langgraph.graph import START, StateGraph\n",
    "\n",
    "graph_builder = StateGraph(State).add_sequence([retrieve, generate])\n",
    "graph_builder.add_edge(START, \"retrieve\")\n",
    "graph = graph_builder.compile()"
   ]
  },
  {
   "cell_type": "markdown",
   "id": "a59a85a6",
   "metadata": {},
   "source": [
    "LangGraph also comes with built-in utilities for visualizing the control flow of your application:"
   ]
  },
  {
   "cell_type": "code",
   "execution_count": 22,
   "id": "f8fac975",
   "metadata": {},
   "outputs": [
    {
     "data": {
      "image/png": "[encoded data removed]",
      "text/plain": [
       "<IPython.core.display.Image object>"
      ]
     },
     "metadata": {},
     "output_type": "display_data"
    }
   ],
   "source": [
    "from IPython.display import Image, display\n",
    "\n",
    "display(Image(graph.get_graph().draw_mermaid_png()))"
   ]
  },
  {
   "cell_type": "markdown",
   "id": "8a587169",
   "metadata": {},
   "source": [
    "**Usage**\n",
    "\n",
    "Invoke:"
   ]
  },
  {
   "cell_type": "code",
   "execution_count": 23,
   "id": "6b83c2d1",
   "metadata": {},
   "outputs": [
    {
     "name": "stdout",
     "output_type": "stream",
     "text": [
      "Context: [Document(id='500379c894f94713a4457865a56dba98', metadata={'source': 'https://lilianweng.github.io/posts/2023-06-23-agent/'}, page_content='Task decomposition can be done (1) by LLM with simple prompting like \"Steps for XYZ.\\\\n1.\", \"What are the subgoals for achieving XYZ?\", (2) by using task-specific instructions; e.g. \"Write a story outline.\" for writing a novel, or (3) with human inputs.\\nAnother quite distinct approach, LLM+P (Liu et al. 2023), involves relying on an external classical planner to do long-horizon planning. This approach utilizes the Planning Domain Definition Language (PDDL) as an intermediate interface to describe the planning problem. In this process, LLM (1) translates the problem into “Problem PDDL”, then (2) requests a classical planner to generate a PDDL plan based on an existing “Domain PDDL”, and finally (3) translates the PDDL plan back into natural language. Essentially, the planning step is outsourced to an external tool, assuming the availability of domain-specific PDDL and a suitable planner which is common in certain robotic setups but not in many other domains.\\nSelf-Reflection#'), Document(id='29d6cda9d02c404ebf1cb2c16447d2e3', metadata={'source': 'https://lilianweng.github.io/posts/2023-06-23-agent/', 'start_index': 2578}, page_content='Task decomposition can be done (1) by LLM with simple prompting like \"Steps for XYZ.\\\\n1.\", \"What are the subgoals for achieving XYZ?\", (2) by using task-specific instructions; e.g. \"Write a story outline.\" for writing a novel, or (3) with human inputs.\\nAnother quite distinct approach, LLM+P (Liu et al. 2023), involves relying on an external classical planner to do long-horizon planning. This approach utilizes the Planning Domain Definition Language (PDDL) as an intermediate interface to describe the planning problem. In this process, LLM (1) translates the problem into “Problem PDDL”, then (2) requests a classical planner to generate a PDDL plan based on an existing “Domain PDDL”, and finally (3) translates the PDDL plan back into natural language. Essentially, the planning step is outsourced to an external tool, assuming the availability of domain-specific PDDL and a suitable planner which is common in certain robotic setups but not in many other domains.\\nSelf-Reflection#'), Document(id='db72b5e9ad8f4cd0a418adbaad5909fd', metadata={'source': 'https://lilianweng.github.io/posts/2023-06-23-agent/', 'start_index': 1638}, page_content='Component One: Planning#\\nA complicated task usually involves many steps. An agent needs to know what they are and plan ahead.\\nTask Decomposition#\\nChain of thought (CoT; Wei et al. 2022) has become a standard prompting technique for enhancing model performance on complex tasks. The model is instructed to “think step by step” to utilize more test-time computation to decompose hard tasks into smaller and simpler steps. CoT transforms big tasks into multiple manageable tasks and shed lights into an interpretation of the model’s thinking process.\\nTree of Thoughts (Yao et al. 2023) extends CoT by exploring multiple reasoning possibilities at each step. It first decomposes the problem into multiple thought steps and generates multiple thoughts per step, creating a tree structure. The search process can be BFS (breadth-first search) or DFS (depth-first search) with each state evaluated by a classifier (via a prompt) or majority vote.'), Document(id='0fd413c451bf458e8e829ab09e25746f', metadata={'source': 'https://lilianweng.github.io/posts/2023-06-23-agent/'}, page_content='Component One: Planning#\\nA complicated task usually involves many steps. An agent needs to know what they are and plan ahead.\\nTask Decomposition#\\nChain of thought (CoT; Wei et al. 2022) has become a standard prompting technique for enhancing model performance on complex tasks. The model is instructed to “think step by step” to utilize more test-time computation to decompose hard tasks into smaller and simpler steps. CoT transforms big tasks into multiple manageable tasks and shed lights into an interpretation of the model’s thinking process.\\nTree of Thoughts (Yao et al. 2023) extends CoT by exploring multiple reasoning possibilities at each step. It first decomposes the problem into multiple thought steps and generates multiple thoughts per step, creating a tree structure. The search process can be BFS (breadth-first search) or DFS (depth-first search) with each state evaluated by a classifier (via a prompt) or majority vote.')]\n",
      "\n",
      "\n",
      "Answer: Task decomposition is the process of breaking down a complicated or hard task into smaller, simpler, and more manageable steps or subgoals. This allows an agent to plan ahead and address a large task by focusing on its constituent parts. It can be achieved by Large Language Models (LLMs) through prompting, task-specific instructions, human input, or techniques like Chain of Thought (CoT) and Tree of Thoughts.\n"
     ]
    }
   ],
   "source": [
    "result = graph.invoke({\"question\": \"What is Task Decomposition?\"})\n",
    "\n",
    "print(f\"Context: {result['context']}\\n\\n\")\n",
    "print(f\"Answer: {result['answer']}\")"
   ]
  },
  {
   "cell_type": "markdown",
   "id": "139279fd",
   "metadata": {},
   "source": [
    "Stream Step:"
   ]
  },
  {
   "cell_type": "code",
   "execution_count": 24,
   "id": "017478a5",
   "metadata": {},
   "outputs": [
    {
     "name": "stdout",
     "output_type": "stream",
     "text": [
      "{'retrieve': {'context': [Document(id='500379c894f94713a4457865a56dba98', metadata={'source': 'https://lilianweng.github.io/posts/2023-06-23-agent/'}, page_content='Task decomposition can be done (1) by LLM with simple prompting like \"Steps for XYZ.\\\\n1.\", \"What are the subgoals for achieving XYZ?\", (2) by using task-specific instructions; e.g. \"Write a story outline.\" for writing a novel, or (3) with human inputs.\\nAnother quite distinct approach, LLM+P (Liu et al. 2023), involves relying on an external classical planner to do long-horizon planning. This approach utilizes the Planning Domain Definition Language (PDDL) as an intermediate interface to describe the planning problem. In this process, LLM (1) translates the problem into “Problem PDDL”, then (2) requests a classical planner to generate a PDDL plan based on an existing “Domain PDDL”, and finally (3) translates the PDDL plan back into natural language. Essentially, the planning step is outsourced to an external tool, assuming the availability of domain-specific PDDL and a suitable planner which is common in certain robotic setups but not in many other domains.\\nSelf-Reflection#'), Document(id='29d6cda9d02c404ebf1cb2c16447d2e3', metadata={'source': 'https://lilianweng.github.io/posts/2023-06-23-agent/', 'start_index': 2578}, page_content='Task decomposition can be done (1) by LLM with simple prompting like \"Steps for XYZ.\\\\n1.\", \"What are the subgoals for achieving XYZ?\", (2) by using task-specific instructions; e.g. \"Write a story outline.\" for writing a novel, or (3) with human inputs.\\nAnother quite distinct approach, LLM+P (Liu et al. 2023), involves relying on an external classical planner to do long-horizon planning. This approach utilizes the Planning Domain Definition Language (PDDL) as an intermediate interface to describe the planning problem. In this process, LLM (1) translates the problem into “Problem PDDL”, then (2) requests a classical planner to generate a PDDL plan based on an existing “Domain PDDL”, and finally (3) translates the PDDL plan back into natural language. Essentially, the planning step is outsourced to an external tool, assuming the availability of domain-specific PDDL and a suitable planner which is common in certain robotic setups but not in many other domains.\\nSelf-Reflection#'), Document(id='db72b5e9ad8f4cd0a418adbaad5909fd', metadata={'source': 'https://lilianweng.github.io/posts/2023-06-23-agent/', 'start_index': 1638}, page_content='Component One: Planning#\\nA complicated task usually involves many steps. An agent needs to know what they are and plan ahead.\\nTask Decomposition#\\nChain of thought (CoT; Wei et al. 2022) has become a standard prompting technique for enhancing model performance on complex tasks. The model is instructed to “think step by step” to utilize more test-time computation to decompose hard tasks into smaller and simpler steps. CoT transforms big tasks into multiple manageable tasks and shed lights into an interpretation of the model’s thinking process.\\nTree of Thoughts (Yao et al. 2023) extends CoT by exploring multiple reasoning possibilities at each step. It first decomposes the problem into multiple thought steps and generates multiple thoughts per step, creating a tree structure. The search process can be BFS (breadth-first search) or DFS (depth-first search) with each state evaluated by a classifier (via a prompt) or majority vote.'), Document(id='0fd413c451bf458e8e829ab09e25746f', metadata={'source': 'https://lilianweng.github.io/posts/2023-06-23-agent/'}, page_content='Component One: Planning#\\nA complicated task usually involves many steps. An agent needs to know what they are and plan ahead.\\nTask Decomposition#\\nChain of thought (CoT; Wei et al. 2022) has become a standard prompting technique for enhancing model performance on complex tasks. The model is instructed to “think step by step” to utilize more test-time computation to decompose hard tasks into smaller and simpler steps. CoT transforms big tasks into multiple manageable tasks and shed lights into an interpretation of the model’s thinking process.\\nTree of Thoughts (Yao et al. 2023) extends CoT by exploring multiple reasoning possibilities at each step. It first decomposes the problem into multiple thought steps and generates multiple thoughts per step, creating a tree structure. The search process can be BFS (breadth-first search) or DFS (depth-first search) with each state evaluated by a classifier (via a prompt) or majority vote.')]}}\n",
      "\n",
      "----------------\n",
      "\n",
      "{'generate': {'answer': 'Task decomposition involves breaking down complicated or hard tasks into smaller, simpler, and more manageable steps or subgoals. This technique helps agents, like Large Language Models, plan ahead and tackle complex problems more effectively. It can be achieved through LLM prompting, task-specific instructions, or human input, as seen in methods like Chain of Thought.'}}\n",
      "\n",
      "----------------\n",
      "\n"
     ]
    }
   ],
   "source": [
    "for step in graph.stream(\n",
    "    {\"question\": \"What is Task Decomposition?\"}, stream_mode=\"updates\"\n",
    "):\n",
    "    print(f\"{step}\\n\\n----------------\\n\")"
   ]
  },
  {
   "cell_type": "markdown",
   "id": "3f8b002e",
   "metadata": {},
   "source": [
    "Stream tokens:"
   ]
  },
  {
   "cell_type": "code",
   "execution_count": 26,
   "id": "f96b4632",
   "metadata": {},
   "outputs": [
    {
     "name": "stdout",
     "output_type": "stream",
     "text": [
      "|Task|Decomposition|is|the|process|of|breaking|down|a|complicated|or|hard|task|into|smaller,|simpler,|and|more|manageable|steps|or|subgoals.|This|method|helps|agents|plan|ahead|and|enhances|performance|on|complex|tasks|by|transforming|them|into|multiple|manageable|parts.|It|can|be||\n",
      "|achieved|through|Large|Language|Models|(LLMs)|with|simple|prompting,|task-specific|instructions,|or|human|inputs.||\n"
     ]
    }
   ],
   "source": [
    "def format_token(token: str) -> str:\n",
    "    \"\"\"Format each token with separator\"\"\"\n",
    "    return f\"|{token}\"\n",
    "\n",
    "# Stream tokens with custom formatting\n",
    "for message, metadata in graph.stream(\n",
    "    {\"question\": \"What is Task Decomposition?\"}, \n",
    "    stream_mode=\"messages\"\n",
    "):\n",
    "    # Split content into tokens and format each one\n",
    "    tokens = message.content.split()\n",
    "    formatted_tokens = [format_token(token) for token in tokens]\n",
    "    \n",
    "    # Print each formatted token without newline\n",
    "    for token in formatted_tokens:\n",
    "        print(token, end=\"\")\n",
    "    print(\"||\")  # Add final delimiter\n",
    "    \n",
    "# |Task| decomposition| is| the| process| of| breaking| down| complex| tasks| into| smaller|,| more| manageable| steps|.| It| can| be| achieved| through| techniques| like| Chain| of| Thought| (|Co|T|)| prompting|,| which| encourages| the| model| to| think| step| by| step|,| or| through| more| structured| methods| like| the| Tree| of| Thoughts|.| This| approach| not| only| simplifies| task| execution| but| also| provides| insights| into| the| model|'s| reasoning| process|.||"
   ]
  },
  {
   "cell_type": "markdown",
   "id": "229634d8",
   "metadata": {},
   "source": [
    "Returning sources\n",
    "\n",
    "Note that by storing the retrieved context in the state of the graph, we recover sources for the model's generated answer in the \"context\" field of the state.\n",
    "\n",
    "**Customizing the prompt**\n",
    "\n",
    "As shown above, we can load prompts (e.g., this RAG prompt) from the prompt hub. The prompt can also be easily customized. For example:"
   ]
  },
  {
   "cell_type": "code",
   "execution_count": 27,
   "id": "6645ab8e",
   "metadata": {},
   "outputs": [],
   "source": [
    "from langchain_core.prompts import PromptTemplate\n",
    "\n",
    "template = \"\"\"Use the following pieces of context to answer the question at the end.\n",
    "If you don't know the answer, just say that you don't know, don't try to make up an answer.\n",
    "Use three sentences maximum and keep the answer as concise as possible.\n",
    "Always say \"thanks for asking!\" at the end of the answer.\n",
    "\n",
    "{context}\n",
    "\n",
    "Question: {question}\n",
    "\n",
    "Helpful Answer:\"\"\"\n",
    "custom_rag_prompt = PromptTemplate.from_template(template)"
   ]
  },
  {
   "cell_type": "markdown",
   "id": "3e5eb6bc",
   "metadata": {},
   "source": [
    "# Query analysis\n",
    "So far, we are executing the retrieval using the raw input query. However, there are some advantages to allowing a model to generate the query for retrieval purposes. For example:\n",
    "- In addition to semantic search, we can build in structured filters (e.g., \"Find documents since the year 2020.\");\n",
    "- The model can rewrite user queries, which may be multifaceted or include irrelevant language, into more effective search queries.\n",
    "\n",
    "[Query analysis](https://python.langchain.com/docs/concepts/retrieval/#query-analysis) employs models to transform or construct optimized search queries from raw user input. We can easily incorporate a query analysis step into our application. For illustrative purposes, let's add some metadata to the documents in our vector store. We will add some (contrived) sections to the document which we can filter on later."
   ]
  },
  {
   "cell_type": "code",
   "execution_count": 28,
   "id": "0d98cd82",
   "metadata": {},
   "outputs": [
    {
     "data": {
      "text/plain": [
       "{'source': 'https://lilianweng.github.io/posts/2023-06-23-agent/',\n",
       " 'start_index': 8,\n",
       " 'section': 'beginning'}"
      ]
     },
     "execution_count": 28,
     "metadata": {},
     "output_type": "execute_result"
    }
   ],
   "source": [
    "total_documents = len(all_splits)\n",
    "third = total_documents // 3\n",
    "\n",
    "for i, document in enumerate(all_splits):\n",
    "    if i < third:\n",
    "        document.metadata[\"section\"] = \"beginning\"\n",
    "    elif i < 2 * third:\n",
    "        document.metadata[\"section\"] = \"middle\"\n",
    "    else:\n",
    "        document.metadata[\"section\"] = \"end\"\n",
    "\n",
    "\n",
    "all_splits[0].metadata"
   ]
  },
  {
   "cell_type": "markdown",
   "id": "4bd9e6ec",
   "metadata": {},
   "source": [
    "We will need to update the documents in our vector store. We will use a simple InMemoryVectorStore for this, as we will use some of its specific features (i.e., metadata filtering). Refer to the vector store integration documentation for relevant features of your chosen vector store.\n"
   ]
  },
  {
   "cell_type": "code",
   "execution_count": 29,
   "id": "a34c8cf4",
   "metadata": {},
   "outputs": [],
   "source": [
    "from langchain_core.vectorstores import InMemoryVectorStore\n",
    "\n",
    "vector_store = InMemoryVectorStore(embeddings)\n",
    "_ = vector_store.add_documents(all_splits)"
   ]
  },
  {
   "cell_type": "markdown",
   "id": "6158d5c0",
   "metadata": {},
   "source": [
    "Let's next define a schema for our search query. We will use [structured output](https://python.langchain.com/docs/concepts/structured_outputs/) for this purpose. Here we define a query as containing a string query and a document section (either \"beginning\", \"middle\", or \"end\"), but this can be defined however you like."
   ]
  },
  {
   "cell_type": "code",
   "execution_count": 30,
   "id": "90e6c415",
   "metadata": {},
   "outputs": [],
   "source": [
    "from typing import Literal\n",
    "\n",
    "from typing_extensions import Annotated\n",
    "\n",
    "\n",
    "class Search(TypedDict):\n",
    "    \"\"\"Search query.\"\"\"\n",
    "\n",
    "    query: Annotated[str, ..., \"Search query to run.\"]\n",
    "    section: Annotated[\n",
    "        Literal[\"beginning\", \"middle\", \"end\"],\n",
    "        ...,\n",
    "        \"Section to query.\",\n",
    "    ]"
   ]
  },
  {
   "cell_type": "markdown",
   "id": "4313144a",
   "metadata": {},
   "source": [
    "Finally, we add a step to our LangGraph application to generate a query from the user's raw input:"
   ]
  },
  {
   "cell_type": "code",
   "execution_count": 31,
   "id": "04a4843d",
   "metadata": {},
   "outputs": [],
   "source": [
    "class State(TypedDict):\n",
    "    question: str\n",
    "    query: Search\n",
    "    context: List[Document]\n",
    "    answer: str\n",
    "\n",
    "\n",
    "def analyze_query(state: State):\n",
    "    structured_llm = llm.with_structured_output(Search)\n",
    "    query = structured_llm.invoke(state[\"question\"])\n",
    "    return {\"query\": query}\n",
    "\n",
    "\n",
    "def retrieve(state: State):\n",
    "    query = state[\"query\"]\n",
    "    retrieved_docs = vector_store.similarity_search(\n",
    "        query[\"query\"],\n",
    "        filter=lambda doc: doc.metadata.get(\"section\") == query[\"section\"],\n",
    "    )\n",
    "    return {\"context\": retrieved_docs}\n",
    "\n",
    "\n",
    "def generate(state: State):\n",
    "    docs_content = \"\\n\\n\".join(doc.page_content for doc in state[\"context\"])\n",
    "    messages = prompt.invoke({\"question\": state[\"question\"], \"context\": docs_content})\n",
    "    response = llm.invoke(messages)\n",
    "    return {\"answer\": response.content}\n",
    "\n",
    "\n",
    "graph_builder = StateGraph(State).add_sequence([analyze_query, retrieve, generate])\n",
    "graph_builder.add_edge(START, \"analyze_query\")\n",
    "graph = graph_builder.compile()"
   ]
  },
  {
   "cell_type": "code",
   "execution_count": 32,
   "id": "9b75c1a6",
   "metadata": {},
   "outputs": [
    {
     "data": {
      "image/png": "[encoded data removed]",
      "text/plain": [
       "<IPython.core.display.Image object>"
      ]
     },
     "metadata": {},
     "output_type": "display_data"
    }
   ],
   "source": [
    "display(Image(graph.get_graph().draw_mermaid_png()))"
   ]
  },
  {
   "cell_type": "markdown",
   "id": "cd63f65e",
   "metadata": {},
   "source": [
    "We can test our implementation by specifically asking for context from the end of the post. Note that the model includes different information in its answer."
   ]
  },
  {
   "cell_type": "code",
   "execution_count": 33,
   "id": "cbc5343a",
   "metadata": {},
   "outputs": [
    {
     "name": "stdout",
     "output_type": "stream",
     "text": [
      "{'analyze_query': {'query': {'query': 'Task Decomposition', 'section': 'end'}}}\n",
      "\n",
      "----------------\n",
      "\n",
      "{'retrieve': {'context': [Document(id='973b51f2-2481-419e-963b-74d7a04f3d16', metadata={'source': 'https://lilianweng.github.io/posts/2023-06-23-agent/', 'start_index': 38621, 'section': 'end'}, page_content='are imported by that file, and so on.\\\\nFollow a language and framework appropriate best practice file naming convention.\\\\nMake sure that files contain all imports, types etc. The code should be fully functional. Make sure that code in different files are compatible with each other.\\\\nBefore you finish, double check that all parts of the architecture is present in the files.\\\\n\"'), Document(id='0e8cfe14-795a-43fa-85d3-7798bbfafd0c', metadata={'source': 'https://lilianweng.github.io/posts/2023-06-23-agent/', 'start_index': 34990, 'section': 'end'}, page_content='Conversatin samples:\\n[\\n  {\\n    \"role\": \"system\",'), Document(id='8de427ba-60e7-42e7-bf7b-f1361cb12aca', metadata={'source': 'https://lilianweng.github.io/posts/2023-06-23-agent/', 'start_index': 37831, 'section': 'end'}, page_content='\"content\": \"Please now remember the steps:\\\\n\\\\nThink step by step and reason yourself to the right decisions to make sure we get it right.\\\\nFirst lay out the names of the core classes, functions, methods that will be necessary, As well as a quick comment on their purpose.\\\\n\\\\nThen you will output the content of each file including ALL code.\\\\nEach file must strictly follow a markdown code block format, where the following tokens must be replaced such that\\\\nFILENAME is the lowercase file name including the file extension,\\\\nLANG is the markup code block language for the code\\'s language, and CODE is the code:\\\\n\\\\nFILENAME\\\\n```LANG\\\\nCODE\\\\n```\\\\n\\\\nPlease note that the code should be fully functional. No placeholders.\\\\n\\\\nYou will start with the \\\\\"entrypoint\\\\\" file, then go to the ones that are imported by that file, and so on.\\\\nFollow a language and framework appropriate best practice file naming convention.\\\\nMake sure that files contain all imports, types etc. The code should be fully'), Document(id='683c6b4a-e307-445b-a899-78b6694113f2', metadata={'source': 'https://lilianweng.github.io/posts/2023-06-23-agent/', 'start_index': 39002, 'section': 'end'}, page_content='}\\n]\\nChallenges#\\nAfter going through key ideas and demos of building LLM-centered agents, I start to see a couple common limitations:')]}}\n",
      "\n",
      "----------------\n",
      "\n",
      "{'generate': {'answer': 'I\\'m sorry, but the provided context does not contain any information about \"Task Decomposition\" at the end of the post or anywhere else. The text discusses instructions for generating code files and common limitations of LLM-centered agents, but it does not mention Task Decomposition.'}}\n",
      "\n",
      "----------------\n",
      "\n"
     ]
    }
   ],
   "source": [
    "for step in graph.stream(\n",
    "    {\"question\": \"What does the end of the post say about Task Decomposition?\"},\n",
    "    stream_mode=\"updates\",\n",
    "):\n",
    "    print(f\"{step}\\n\\n----------------\\n\")"
   ]
  },
  {
   "cell_type": "markdown",
   "id": "62d1b679",
   "metadata": {},
   "source": [
    "In both the streamed steps and the [LangSmith](https://smith.langchain.com/public/bdbaae61-130c-4338-8b59-9315dfee22a0/r?_gl=1*pp9aj6*_ga*MTY4NjgwMTQ5NS4xNzU5NjAyMjc4*_ga_47WX3HKKY2*czE3NTk3NzAwOTckbzckZzEkdDE3NTk3NzAxMTgkajM5JGwwJGgw) trace, we can now observe the structured query that was fed into the retrieval step.\n",
    "\n",
    "Query Analysis is a rich problem with a wide range of approaches. Refer to the how-to guides for more examples."
   ]
  },
  {
   "cell_type": "markdown",
   "id": "ffa67c8e",
   "metadata": {},
   "source": [
    "# Next step\n",
    "We've covered the steps to build a basic Q&A app over data:\n",
    "- Loading data with a [Document Loader](https://python.langchain.com/docs/concepts/document_loaders/)\n",
    "- Chunking the indexed data with a [Text Splitter](https://python.langchain.com/docs/concepts/text_splitters/) to make it more easily usable by a model\n",
    "- [Embedding the data](https://python.langchain.com/docs/concepts/embedding_models/) and storing the data in a [vectorstore](https://python.langchain.com/docs/how_to/vectorstores/)\n",
    "- [Retrieving](https://python.langchain.com/docs/concepts/retrievers/https://python.langchain.com/docs/concepts/retrievers/) the previously stored chunks in response to incoming questions.\n",
    "- Generating an answer using the retrieved chunks as context.\n",
    "\n",
    "Further reading:\n",
    "- [Return sources](https://python.langchain.com/docs/how_to/qa_sources/): Learn how to return source documents\n",
    "- [Streaming](https://python.langchain.com/docs/how_to/streaming/): Learn how to stream outputs and intermediate steps\n",
    "- [Add chat history](https://python.langchain.com/docs/how_to/message_history/): Learn how to add chat history to your app\n",
    "- [Retrieval conceptual guide](https://python.langchain.com/docs/concepts/retrieval/): A high-level overview of specific retrieval techniques"
   ]
  }
 ],
 "metadata": {
  "kernelspec": {
   "display_name": ".venv",
   "language": "python",
   "name": "python3"
  },
  "language_info": {
   "codemirror_mode": {
    "name": "ipython",
    "version": 3
   },
   "file_extension": ".py",
   "mimetype": "text/x-python",
   "name": "python",
   "nbconvert_exporter": "python",
   "pygments_lexer": "ipython3",
   "version": "3.13.0"
  }
 },
 "nbformat": 4,
 "nbformat_minor": 5
}
