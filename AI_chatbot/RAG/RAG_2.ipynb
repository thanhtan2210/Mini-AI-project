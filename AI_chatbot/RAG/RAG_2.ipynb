{
 "cells": [
  {
   "cell_type": "markdown",
   "id": "1c853a91",
   "metadata": {},
   "source": [
    "# Build a Retrieval Augmented Generation (RAG) App: Part 2\n",
    "\n",
    "processes.\n",
    "Here we focus on **adding logic for incorporating historical messages**. This involves the management of a [chat history](https://python.langchain.com/docs/concepts/chat_history/).\n",
    "\n",
    "We will cover two approaches:\n",
    "- [Chains](https://python.langchain.com/docs/tutorials/qa_chat_history/#chains), in which we execute at most one retrieval step;\n",
    "- [Agents](https://python.langchain.com/docs/tutorials/qa_chat_history/#agents), in which we give an LLM discretion to execute multiple retrieval steps.\n",
    "\n",
    "\n"
   ]
  }
 ],
 "metadata": {
  "language_info": {
   "name": "python"
  }
 },
 "nbformat": 4,
 "nbformat_minor": 5
}
